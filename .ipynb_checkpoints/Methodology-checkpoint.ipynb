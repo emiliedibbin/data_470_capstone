{
 "cells": [
  {
   "cell_type": "markdown",
   "metadata": {},
   "source": [
    "# Methodology\n",
    "### Emilie Dibbin\n",
    "\n",
    "https://github.com/emiliedibbin/data_470_capstone\n",
    "\n",
    "In this project there are two data sources to evaluate risk of defaulting on a credit card. One source is Give Me Credit from US, and the other is Default of Credit Card Clients Dataset from Taiwan. These sources have been explored using data visualization such as density plots and boxplots. Furthermore, statistical parametric tests have been conducted to characterize the relationships and patterns within the datasets. Any missing data discovered during the exploratory analysis has been imputed with a default value or with the mean value for example Serious Delinquency in the past 2 Years was imputed with 0 i.e. none, and Monthly Income was imputed with the mean Monthly Income of the population. For majority of the numerical data, the mean values were compared across categorical data for example gender and marital status using appropriate Students t-test and ANOVA. \n",
    "\n",
    "\n",
    "Machine learning algorithms are proposed to determine the probability of default and exposure at default. Namely these algorithms are random forest, logistic regression, and k-means clustering. Accuracy metrics for example area under the curve (AUC), sensitivity, specificity, and balance accuracy will be used to determine which machine learning algorithm is the most appropriate for credit risk assessment. \n",
    "\n",
    "### Random Forest\n",
    "Random forest models develop multitudes of random decision trees based on a set of explanatory variables, and these trees are merged to produce a final model. RF Used for both classification and mean prediction. In this analysis random forest will be used to predict probability of default (classification) and exposure at default (regression) (Liaw & Wiener, 2002). \n",
    "\n",
    "\n",
    "### Logistic Regression\n",
    "\n",
    "Logistic regression models binary responses based on both numerical and categorical explanatory variables. It assumes linear relationships between the response variable and the explanatory variables. The advantage of using logistic regression is that the relationships in the end product can be readily explained. However, it is susceptible to inaccuracy if non-linear relationships exist between the response and explanatory variables (Yeh & Lien, 2009). Logistic regression will be used to predict probability of default. \n",
    " \n",
    " \n",
    "### K-means Clustering\n",
    "\n",
    "K-means groups alike data points together to find any patterns. For this to be achieved, k-means will look for a set number of clusters in a dataset. K-means clustering will be used to predict probability of default. \n",
    "\n",
    "### Agglomerative Hierarchical Clustering\n",
    "\n",
    "In agglomerative hierarchical clustering at first each data point is thought of as an individual cluster. The similar clusters merge with other clusters until at least one cluster is formed after each iteration (Day and Herbert, 1984). Agglomerative hierarchical clustering will be used to predict probability of default."
   ]
  },
  {
   "cell_type": "markdown",
   "metadata": {
    "collapsed": true
   },
   "source": [
    "### Citations\n",
    "\n",
    "Day, William H.E., and Herbert Edelsbrunner. “Efficient Algorithms for Agglomerative Hierarchical Clustering Methods.” Journal of Classification , vol. 1, no. 7, ser. 24, 1984. 24.\n",
    "\n",
    "Liaw, Andy, and Matthew Wiener. “Classification and Regression by RandomForest.” Forest, Dec. 2002.\n",
    "\n",
    "Likas, Aristidis, et al. The global k-means clustering algorithm. [TechnicalReport] IAS-UVA-01-02, 2001, pp.12. ffinria-00321515f\n",
    "\n",
    "Yeh, I-Cheng, and Che-Hui Lien. “The Comparisons of Data Mining Techniques for the Predictive Accuracy of Probability of Default of Credit Card Clients.” Expert Systems with Applications, vol. 36, no. 2, 2009, pp. 2473–2480. doi:10.1016/j.eswa.2007.12.020.\n",
    "\n"
   ]
  }
 ],
 "metadata": {
  "kernelspec": {
   "display_name": "Python 3",
   "language": "python",
   "name": "python3"
  },
  "language_info": {
   "codemirror_mode": {
    "name": "ipython",
    "version": 3
   },
   "file_extension": ".py",
   "mimetype": "text/x-python",
   "name": "python",
   "nbconvert_exporter": "python",
   "pygments_lexer": "ipython3",
   "version": "3.4.3"
  }
 },
 "nbformat": 4,
 "nbformat_minor": 0
}
