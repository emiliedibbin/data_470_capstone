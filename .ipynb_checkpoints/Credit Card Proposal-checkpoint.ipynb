{
 "cells": [
  {
   "cell_type": "markdown",
   "metadata": {},
   "source": [
    "## The Team \n",
    "### Emilie Dibbin \n",
    "    \n",
    "### Anthony Iarussi\n",
    "\n",
    "We will both do exploratory analysis and modeling"
   ]
  },
  {
   "cell_type": "markdown",
   "metadata": {},
   "source": [
    "## Problem Statement and Background\n",
    "\n",
    "We selected this data set because it would be very interesting to explore how different variables affect defaulting on credit payments as well as bill amount, and repayment status. We will look at individual interactions of these variables as well as using machine learning to predict the probability of an individual defaulting on their credit card payments. This is an important issue today, that companies have turned to data science to help solve. From this data set we will model high risk user characteristics and credit card payment history. As this model includes longitudinal data, it can be used as a tool to assess risk in real time. Unlike credit scores the model will also take into account important personal characteristics such as age, gender, marital status and education level. "
   ]
  },
  {
   "cell_type": "markdown",
   "metadata": {},
   "source": [
    "## Data Source\n",
    "Data Source:\n",
    "https://www.kaggle.com/uciml/default-of-credit-card-clients-dataset\n",
    "\n",
    "The main data source for this project will be ‘The Default of Credit Card Clients Dataset”, which can be found on Kaggle. The original dataset comes from the University of California’s School of Information and Computer Science, from the online machine learning repository. The dataset has information on 30000 individuals from Taiwan, over the time period of April 2005 to September 2005. The data has 25 variables, including attributes like gender, education, marriage status, and age. The data also contains variables that follow the billing and statuses for each credit card holder monthly. Included among these variables is a response variable, default.payment.next.month, telling whether or not the individual had defaulted on the credit card the next month. All variables with less than 20% missing or unknown values will be explored and used in modelling."
   ]
  },
  {
   "cell_type": "markdown",
   "metadata": {},
   "source": [
    "## Goals of Analysis\n",
    "\n",
    "Goals for analysis include identifying the variables that contribute most to an\n",
    "individual defaulting on the credit card. An initial hypothesis is that single men in\n",
    "the youngest age group will have the highest rate of defaulting on credit cards.\n",
    "This hypothesis simply stems from the notion that younger men are typically\n",
    "categorized as high risk when it comes to insurance. Also, we plan on exploring\n",
    "which attributes contribute most to defaulting on the credit card. We expect for the previous payment history to significantly affect future payments. "
   ]
  },
  {
   "cell_type": "markdown",
   "metadata": {},
   "source": [
    "## Description of Data Analysis Tools\n",
    "Our approach to data analysis will be two parts, exploratory and modeling. The initial approach to exploratory is to look at default rates among different groups including, gender, age group, marriage status, and education. We will then use visualizations to explore trends in payments among these groups and as a population. We will test each variable for significance using t-test and chi-square test.\n",
    "For modelling, we will use logistic regression with backward selection as well as machine learning algorithms like random forest to predict whether an individual will default on payment. We will split the data into training (85%) and validation (15%) sets and compare accuracy metrics such balanced accuracy, sensitivity and specificity.\n"
   ]
  },
  {
   "cell_type": "markdown",
   "metadata": {},
   "source": [
    "## Describe the Data Products Your Project Will Produce\n",
    "Our project will produce exploratory visualizations of trends among key variables including, gender, age group, education, and marriage status. Visualizations of the trends in payments will also be produced. We also plan on finding the most important attributes and useful model for predicting defaulting on credit payments. \n"
   ]
  },
  {
   "cell_type": "markdown",
   "metadata": {},
   "source": [
    "## Sources\n",
    "\n",
    "Lichman, M. (2013). UCI Machine Learning Repository\n",
    "[http://archive.ics.uci.edu/ml (http://archive.ics.uci.edu/ml)]. Irvine, CA: University\n",
    "of California, School of Information and Computer Science.\n",
    "\n",
    "https://www.researchgate.net/post/Model_selection_by_The_Akaikes_Information_Criterion_AIC_what_is_common_practice\n",
    "\n",
    "http://159.226.170.112/raa/index.php/raa/article/viewFile/112/54"
   ]
  }
 ],
 "metadata": {
  "kernelspec": {
   "display_name": "Python 3",
   "language": "python",
   "name": "python3"
  },
  "language_info": {
   "codemirror_mode": {
    "name": "ipython",
    "version": 3
   },
   "file_extension": ".py",
   "mimetype": "text/x-python",
   "name": "python",
   "nbconvert_exporter": "python",
   "pygments_lexer": "ipython3",
   "version": "3.4.3"
  }
 },
 "nbformat": 4,
 "nbformat_minor": 0
}
