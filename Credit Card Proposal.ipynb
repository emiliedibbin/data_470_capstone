{
 "cells": [
  {
   "cell_type": "markdown",
   "metadata": {},
   "source": [
    "## The Team \n",
    "### Emilie Dibbin \n",
    "    \n",
    "### Anthony Iarussi"
   ]
  },
  {
   "cell_type": "markdown",
   "metadata": {},
   "source": [
    "## Problem Statement and Background\n",
    "A high-level statement of the problem you intend to address, e.g. finding correspondences between geo locations and crime rates. Try to translate the high-level into specific questions if you can - but this may be difficult before you do exploratory data analysis.\n",
    "\n",
    "Give background on the problem you are solving: why it is interesting, who is interested, what is known, some references about it, etc.\n",
    "\n",
    "We selected this data set because it would be very interesting to explore which\n",
    "categorical values most impact the probability of an individual defaulting on their\n",
    "credit card payments. This is an important issue today, that companies have\n",
    "turned to data science to help solve. From this data set we will try to build a\n",
    "profile of high risk users behavior and attributes using credit card payment\n",
    "status and categorical data of the user. It is very interesting how the usage of\n",
    "past data can help minimize risk in the future. \n",
    "The purpose is to build a model that will use categorical characteristics of\n",
    "individuals to help identify and predict the level of risk, of the individual, when\n",
    "applying for credit cards, loans, etc. The average company solely uses the\n",
    "individuals credit score to make a decision about a loan, credit cards, and the\n",
    "interest along with it. The problem with credit score is that it does not always tell\n",
    "the full story about the individuals finances. Companies are beginning to use\n",
    "machine learning models to take a deeper look into individuals to assess risk\n",
    "more thoroughly and give interest rates that are specifically formulated for each\n",
    "individual. This lowers risk for the company and allows users with decent or low\n",
    "credit to get assessed fairly, therefore everyone wins."
   ]
  }
 ],
 "metadata": {
  "kernelspec": {
   "display_name": "Python 3",
   "language": "python",
   "name": "python3"
  },
  "language_info": {
   "codemirror_mode": {
    "name": "ipython",
    "version": 3
   },
   "file_extension": ".py",
   "mimetype": "text/x-python",
   "name": "python",
   "nbconvert_exporter": "python",
   "pygments_lexer": "ipython3",
   "version": "3.4.3"
  }
 },
 "nbformat": 4,
 "nbformat_minor": 0
}
