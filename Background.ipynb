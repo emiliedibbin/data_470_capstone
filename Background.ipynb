{
 "cells": [
  {
   "cell_type": "markdown",
   "metadata": {},
   "source": [
    "# Credit Default Risk and Exposure \n",
    "### Emilie Dibbin\n",
    "\n",
    "https://github.com/emiliedibbin/data_470_capstone"
   ]
  },
  {
   "cell_type": "markdown",
   "metadata": {},
   "source": [
    "## Problem Statement\n",
    "\n",
    "Credit risk assessment has been the focus since the financial crises seen in the U.S in 2008, and Taiwan in 2006. This has brought accords like <strong>Basel III and Internal Rating Based approach </strong> into the marketplace to prevent future financial crises from occurring and effecting consumer behavior. Probability of default and exposure at default play an intrinsic part in determining credit risk for both the financial institute and an individual. Determining credit risk for an individual early on is important to not repeat a major crisis management that happened post-recession. Machine learning algorithms may offer an improvement in determining probability of default and exposure at default. The objectives of this analysis are to implement an array of machine learning algorithms such as random forest, logistic regression, and k-means clustering to improve credit risk component predictions i.e. probability of default and exposure at default. Improving credit risk assessment using machine learning may provide a more robust and specific risk for the consumer and financial institutions.\n",
    "\n",
    "<strong> Basel III is an international regulatory accord that introduced a set of reforms designed to improve the regulation, supervision and risk management within the banking sector. </strong>\n",
    " "
   ]
  },
  {
   "cell_type": "markdown",
   "metadata": {},
   "source": [
    "## Background \n",
    "\n",
    "Credit risk is important to prevent another major financial crisis for example in the United States in 2008, and in Taiwan in 2006. Before these crises, financial institutes were more focused on crisis management. Before 2008, United States loan companies were giving mortgages for homes to people with very high disk of defaulting on their loan. This eventually led to many house foreclosures which then led to a decline in home prices and recession in 2008. Before 2006 in Taiwan credit card companies followed a similar pattern of giving credit cards cash cards to people that had a high risk of defaulting which led to a decline in consumer confidence and similar financial deficits for banks. Over-issuing of credit lines without any risk assessment has led to global economic issues in the past that could have been prevented. One method of prevention is upfront risk assessment before a crisis occurs. As Shakdwipee and Mehta (2017) mention, Basel Regulations are relations based on maintaining the optimal ratio between a financial institute's capital to its risk. The implementation of Basel III involves estimating probability of defaults and loss given default and exposure at default. Basel I went into effect in 1988 and Basel III is supposed to be implemented by the end of 2019. Basel III has integrated different measures to counteract problems from recession in 2008. Risk assessment is still being influenced by, and growing even a decade after the recession in the U.S.<strong> Internal Rating Based Approach (IRB) is another method of assessing financial risk for institutions (Bandyopadhyay, 2016). Internal Rating Based is also using probability of default, exposure at default, and loss given default. Since both Basel III and Internal Rating Based approach use probability of default and exposure at default, the project focuses on predicting these in two different populations i.e. U.S. and Taiwan. </strong>\n",
    "\n",
    "As mentioned above, since the recession in the U.S and the lack of financial confidence in Taiwan, more emphasis has been put on risk prediction than crisis management. The methods that are in effect focus on classifying risk in a binary fashion. As Yeh and Lien (2009) pointed out, estimation of default probability will be more meaningful than binary classification of risk because informed and holistic decisions can be made based on probability rather than absolute classification which only takes into account minimal information. The authors modeled probability of defaulting (PD) using six machine learning methods such as KNN, and logistic regression. They found that the most accurate method was neural networks. One of the objectives of this analysis is to implement other methods for example random forest, and agglomerative hierarchical clustering. \n",
    "\n",
    "Exposure at default (EAD) is another metric for assessing the degree to which an individual will default. It is the amount a person owes at the time of default. Exposure will show how much money a company will potentially lose if someone does indeed default. This is important because it is possible will have a medium risk of defaulting but may or may not default a high amount. Meaningful integration of probability of default and exposure at default improves risk assessment for marginally higher risk individuals in a population. \n",
    "\n",
    "Exposure adds value to risk assessment and makes it more comprehensive (Yang & Tkachenko, 2012). Yang and Tkachenko used linear regression as a method to predict exposure at default. Other machine learning approaches in addition to linear regression are essential and may provide more accuracy for predicting exposure. Another objective of this project is to model and estimate exposure for individuals who default. Both of these objectives will be carried out in the two datasets, one from U.S. and the other one from Taiwan. The latter dataset from Taiwan has payment history information and minimal personal characteristics of 30,000 individuals. The former dataset for U.S has information less personal information but, has more financial and pertinent credit information about 251,505‬ individuals. This is one of the larger credit risk datasets available and findings from this dataset will be more generalizable. \n",
    "\n",
    "Internal Ratings Based Approach and Basel III both integrate probability of default and exposure at default for risk assessment. These however, depend on an instance of default happening for future risk assessment. This project focuses on predicting exposure at default for the first time instead of second, third and so on instances of default. This project will also focus on the minimum amount of time of an individual's credit history that needs to be evaluated for accurate predictions to be made for probability of default and exposure at default.\n",
    "\n",
    "At the consumer level, credit risk assessment is essential because if a financial institution has a lower ratio of its capital to its risk, it influences the capital for everyone's deposits. It reduces consumer confidence in the financial institutions. When the consumer confidence is reduced, it is hard to improve it in a significantly quick amount of time. Credit risk assessment is essential for the financial institutions and consumers. Machine learning may improve the pre-existing methods of credit risk and provide a more robust and specific risk determination for the consumer.\n",
    "\n"
   ]
  },
  {
   "cell_type": "markdown",
   "metadata": {},
   "source": [
    "## Citations\n",
    "\n",
    "https://www.kaggle.com/uciml/default-of-credit-card-clients-dataset\n",
    "\n",
    "https://www.kaggle.com/c/GiveMeSomeCredit/data\n",
    "\n",
    "Bandyopadhyay, Arindam. “Basel II IRB Approach of Measuring Credit Risk Regulatory Capital.” Managing Portfolio Credit Risk in Banks, 2016, pp. 318–354., doi:10.1017/cbo9781316550915.009.\n",
    "\n",
    "Shakdwipee, Pushpkant, and Masuma Mehta. “From Basel I to Basel II to Basel III.” International Journal of New Technology and Research (IJNTR), vol. 3, no. 1, 2017, pp. 66–70.\n",
    "\n",
    "Yeh, I-Cheng, and Che-Hui Lien. “The Comparisons of Data Mining Techniques for the Predictive Accuracy of Probability of Default of Credit Card Clients.” Expert Systems with Applications, vol. 36, no. 2, 2009, pp. 2473–2480. doi:10.1016/j.eswa.2007.12.020.\n",
    "\n",
    "Yang, Bill Huajian & Tkachenko, Mykola. (2012). Modelling exposure at default and loss given default: Empirical approaches and technical implementation. Journal of Credit Risk. 8. 81-102. 10.21314/JCR.2012.139. "
   ]
  }
 ],
 "metadata": {
  "kernelspec": {
   "display_name": "Python 3",
   "language": "python",
   "name": "python3"
  },
  "language_info": {
   "codemirror_mode": {
    "name": "ipython",
    "version": 3
   },
   "file_extension": ".py",
   "mimetype": "text/x-python",
   "name": "python",
   "nbconvert_exporter": "python",
   "pygments_lexer": "ipython3",
   "version": "3.4.3"
  }
 },
 "nbformat": 4,
 "nbformat_minor": 0
}
